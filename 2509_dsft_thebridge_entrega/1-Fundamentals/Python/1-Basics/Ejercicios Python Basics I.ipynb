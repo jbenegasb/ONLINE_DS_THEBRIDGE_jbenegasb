{
 "cells": [
  {
   "cell_type": "markdown",
   "metadata": {},
   "source": [
    "![imagen](./img/ejercicios.png)"
   ]
  },
  {
   "cell_type": "markdown",
   "metadata": {},
   "source": [
    "# Ejercicios Python Basics I"
   ]
  },
  {
   "cell_type": "markdown",
   "metadata": {},
   "source": [
    "## Ejercicio 1\n",
    "Imprime por pantalla esta cita con el siguiente formato\n",
    "\n",
    "![imagen](./img/frase_Einstein.PNG)"
   ]
  },
  {
   "cell_type": "code",
   "execution_count": 14,
   "metadata": {},
   "outputs": [
    {
     "name": "stdout",
     "output_type": "stream",
     "text": [
      "¿Por qué esta magnífica tecnología científica,\n",
      "\t que ahorra trabajo y nos hace la vida mas fácil,\n",
      "\t\t nos aporta tan poca felicidad?\n",
      "\t\t\tLa respuesta está, simplemente: porque aún no hemos aprendido usarla con tinto.\n",
      "\"Albert Einstein\"\n"
     ]
    }
   ],
   "source": [
    "print(\"¿Por qué esta magnífica tecnología científica,\\n\\t que ahorra trabajo y nos hace la vida mas fácil,\\n\\t\\t nos aporta tan poca felicidad?\\n\\t\\t\\tLa respuesta está, simplemente: porque aún no hemos aprendido usarla con tinto.\")\n",
    "print('\"Albert Einstein\"')\n"
   ]
  },
  {
   "cell_type": "markdown",
   "metadata": {},
   "source": []
  },
  {
   "cell_type": "markdown",
   "metadata": {},
   "source": [
    "## Ejercicio 2\n",
    "1. Escribe el nombre de la calle de tu domicilio\n",
    "2. Escribe el numero de la calle en otra\n",
    "3. Población en una tercera\n",
    "4. Codigo postal en la cuarta variable\n",
    "5. Crea una quinta variable que concatene todas ellas\n",
    "6. Imprimela por pantalla"
   ]
  },
  {
   "cell_type": "code",
   "execution_count": 18,
   "metadata": {},
   "outputs": [
    {
     "name": "stdout",
     "output_type": "stream",
     "text": [
      "calle 36 500 25\n"
     ]
    }
   ],
   "source": [
    "calle = input(\"Escribe el nombre de tu calle\")\n",
    "nro_de_casa = input(\"Escribe el numero de callle\")\n",
    "poblacion = input(\"Ingrese la poblaciÓn\")\n",
    "postal = input(\"Ingrese se codigo postal\")\n",
    "\n",
    "combi_valores = calle + \" \" + nro_de_casa + \" \"  + poblacion + \" \" + postal\n",
    "print(combi_valores)"
   ]
  },
  {
   "cell_type": "markdown",
   "metadata": {},
   "source": [
    "## Ejercicio 3\n",
    "Replica el output del ejercicio dos, pero está vez sin usar una variable intermedia que concatene todas las demas. Realiza este ejercicio en una línea, con un  único `print`"
   ]
  },
  {
   "cell_type": "code",
   "execution_count": 21,
   "metadata": {},
   "outputs": [
    {
     "name": "stdout",
     "output_type": "stream",
     "text": [
      "calle del alcalde angel arroyo, nro 9, poblacion:900, codigo postal:29804\n"
     ]
    }
   ],
   "source": [
    "print(\"calle del alcalde angel arroyo,\", \"nro 9,\", \"poblacion:900,\", \"codigo postal:29804\")"
   ]
  },
  {
   "cell_type": "markdown",
   "metadata": {},
   "source": [
    "## Ejercicio 4\n",
    "¿Qué variables están mal escritas y por qué? Realiza primero tu hipótesis y luego ejecuta las variables para comprobarlo. En ese orden :)\n",
    "\n",
    "\n",
    "1. mi_variable = \"Economía\"\n",
    "2. otra_var = \"Ejercicio\n",
    "3. True = \"Ejercicio\"\n",
    "4. mi variab1e = \"Alpha\"\n",
    "5. exec = True\n",
    "6. import = 40\n",
    "7. 81mi_variable = \"Agua\"\n",
    "8. mi_variable10 = 6\n"
   ]
  },
  {
   "cell_type": "markdown",
   "metadata": {},
   "source": [
    "1. esta correcta\n",
    "2. esta mal: no esta cerrado los \"\"\n",
    "3. True es un argumento de bool\n",
    "4. en el nombre hay espacios\n",
    "5. exec es una funcion built in\n",
    "6. import es un comando\n",
    "7. el nombre de la variable no puede empezar con nros\n",
    "8. esta correcta"
   ]
  },
  {
   "cell_type": "code",
   "execution_count": 30,
   "metadata": {},
   "outputs": [],
   "source": [
    "#comprobacion\n",
    "#2:\n",
    "otra_var = \"Ejercicio\"\n",
    "#3:\n",
    "True_variable = \"Ejercicio\"\n",
    "#4:\n",
    "mi_var1able = \"Alpha\"\n",
    "#5:\n",
    "exec_variable = True\n",
    "#6:\n",
    "import_variable = 40\n",
    "#7:\n",
    "mivariable81 = \"agua\"\n"
   ]
  },
  {
   "cell_type": "markdown",
   "metadata": {},
   "source": [
    "## Ejercicio 5\n",
    "Realiza un conversor de grados Celsius a Fahrenheit. El conversor tiene que recibir el input del usuario y devolver la conversión.\n",
    "\n",
    "La conversión de grados sigue la siguiente fórmula: F = (C × 9 / 5) + 32 "
   ]
  },
  {
   "cell_type": "code",
   "execution_count": 34,
   "metadata": {},
   "outputs": [
    {
     "name": "stdout",
     "output_type": "stream",
     "text": [
      "89.6 grados Fahrenheit\n"
     ]
    }
   ],
   "source": [
    "celsius = int(input(\"Ingrese los grados Celsius\"))\n",
    "\n",
    "Fahrenheit = (celsius * 9 / 5) + 32\n",
    "print(Fahrenheit,\"grados Fahrenheit\")"
   ]
  },
  {
   "cell_type": "markdown",
   "metadata": {},
   "source": [
    "## Ejercicio 6\n",
    "Comenta en la medida de lo posible el Ejercicio 5. Será suficiente con poner al menos un comentario de línea, y otro multilínea"
   ]
  },
  {
   "cell_type": "code",
   "execution_count": null,
   "metadata": {},
   "outputs": [
    {
     "name": "stdout",
     "output_type": "stream",
     "text": [
      "El equivalente en grados Fahrenheit es 41.0\n"
     ]
    }
   ],
   "source": [
    "#input del usuario, importante pasar a int el str del input\n",
    "celsius = int(input(\"Ingrese los grados Celsius\"))\n",
    "'''En la operacion matematica\n",
    "importante utilizar bien los parentesis'''\n",
    "Fahrenheit = (celsius * 9 / 5) + 32                                 \n",
    "print(Fahrenheit,\"grados Fahrenheit\")"
   ]
  }
 ],
 "metadata": {
  "kernelspec": {
   "display_name": "Python 3",
   "language": "python",
   "name": "python3"
  },
  "language_info": {
   "codemirror_mode": {
    "name": "ipython",
    "version": 3
   },
   "file_extension": ".py",
   "mimetype": "text/x-python",
   "name": "python",
   "nbconvert_exporter": "python",
   "pygments_lexer": "ipython3",
   "version": "3.10.11"
  }
 },
 "nbformat": 4,
 "nbformat_minor": 4
}
