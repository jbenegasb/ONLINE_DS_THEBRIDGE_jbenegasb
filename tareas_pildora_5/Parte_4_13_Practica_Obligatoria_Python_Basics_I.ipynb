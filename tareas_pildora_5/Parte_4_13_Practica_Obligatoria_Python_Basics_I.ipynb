{
 "cells": [
  {
   "cell_type": "markdown",
   "metadata": {
    "id": "BNCAebJANPxq"
   },
   "source": [
    "![TheBridge_logo_RGB_color.jpg](attachment:TheBridge_logo_RGB_color.jpg)"
   ]
  },
  {
   "cell_type": "markdown",
   "metadata": {
    "id": "A9eDZvZaNPxs"
   },
   "source": [
    "![imagen](./img/ejercicios.png)"
   ]
  },
  {
   "cell_type": "markdown",
   "metadata": {
    "id": "59zPhBxXNPxs"
   },
   "source": [
    "## PRACTICA OBLIGATORIA: PYTHON"
   ]
  },
  {
   "cell_type": "markdown",
   "metadata": {
    "id": "mv2kb1GMNPxs"
   },
   "source": [
    "* La práctica obligatoria de esta unidad consiste en dos ejercicios de programación libre a completar.   \n",
    "* Recuerda que debes subirla a tu repositorio personal antes de la sesión en vivo para que puntúe adecuadamente.  \n",
    "* Recuerda también que no es necesario que esté perfecta, sólo es necesario que se vea el esfuerzo.\n",
    "* Esta práctica se resolverá en la sesión en vivo correspondiente y la solución se publicará en el repo del curso."
   ]
  },
  {
   "cell_type": "markdown",
   "metadata": {
    "id": "Kl9JzST2NPxt"
   },
   "source": [
    "![ejercicio.png](./img/ejercicio.png)\n",
    "## PARTE I\n",
    "\n",
    "En este ejercicio debes simular un chatbot al que le haremos pedidos de pizzas.\n",
    "\n",
    "1. El chatbot tiene que saludar con un: \"Buenas tardes, bienvenido al servicio de pedido online, el precio de nuestra pizzas es de 8,95 para la familiar o de 9,90 para la mediana ¿Cuántas pizzas  familiares desea?\"\n",
    "2. El ususario tiene que introducir un número de pizzas en una variable llamada 'pizz_familiar'\n",
    "3. El chatbot debe responder: \"Estupendo, ¿cuántas pizzas medianas desea?\" y guardar el número de pizzas medianas en otra variable 'pizz_mediana'\n",
    "4. Además debe responder del chatbot: \"Estupendo, se están preparando 'pizz' pizzas familiares y 'pizz_mediana' pizzas medianas. Digame su dirección\"\n",
    "5. El ususario tiene que introducir una direccion en formato String en otra variable llamada 'direcc'\n",
    "6. El programa debe calcular el monto total\n",
    "7. Respuesta final del chatbot: \"Le mandaremos las '(número total de pizzas)' pizzas a la dirección 'direcc'. Serán <precio total a pagar en euros>. Muchas gracias por su pedido.\"\n",
    "         \n"
   ]
  },
  {
   "cell_type": "code",
   "execution_count": 17,
   "metadata": {
    "id": "qkKibyt-NPxt",
    "scrolled": true
   },
   "outputs": [
    {
     "name": "stdin",
     "output_type": "stream",
     "text": [
      "Buenas tardes, bienvenido al servicio de pedido online, el precio de nuestras pizzas es de 8,95 para la familiar o de 9,90 para la mediana ¿Cuantas pizzas familiares desea? 5\n",
      "Estupendo, ¿cuántas pizzas medianas desea? 5\n",
      "Estupendo, se están preparando 5 pizzas familiares y 5 pizzas medianas. Digame su dirección: casa\n"
     ]
    },
    {
     "name": "stdout",
     "output_type": "stream",
     "text": [
      "10\n",
      "casa\n",
      "94.25\n",
      "Le mandaremos las  None  pizzas a la dirreción  None  Seran  None $. Muchas gracias por su pedido\n"
     ]
    }
   ],
   "source": [
    "#recoleccion de datos del pedido\n",
    "pizz_familiar = int(input(\"Buenas tardes, bienvenido al servicio de pedido online, el precio de nuestras pizzas es de 8,95 para la familiar o de 9,90 para la mediana ¿Cuantas pizzas familiares desea?\"))\n",
    "pizz_mediana = int(input(\"Estupendo, ¿cuántas pizzas medianas desea?\"))\n",
    "direcc = input(f\"Estupendo, se están preparando {pizz_familiar} pizzas familiares y {pizz_mediana} pizzas medianas. Digame su dirección:\")\n",
    "\n",
    "#calculo del monto total\n",
    "precio_f = 8.95\n",
    "precio_m = 9.90\n",
    "monto = (pizz_familiar * precio_f) + (pizz_mediana * precio_m)\n",
    "total_pizzas = pizz_familiar + pizz_mediana\n",
    "\n",
    "#respuesta final del bot\n",
    "print(\"Le mandaremos las \",print(total_pizzas),\" pizzas a la dirreción \",print(direcc), \" Seran \",print(monto),\"$. Muchas gracias por su pedido\")\n",
    "                    "
   ]
  },
  {
   "cell_type": "code",
   "execution_count": null,
   "metadata": {},
   "outputs": [],
   "source": []
  },
  {
   "cell_type": "markdown",
   "metadata": {
    "id": "f0oqoGDGNPxt"
   },
   "source": [
    "![ejercicio.png](./img/ejercicio.png)\n",
    "## Parte II\n",
    "\n",
    "Crea un programa que realice las siguientes acciones:\n",
    "\n",
    "1. lista.split(\",\")lista.split(\",\")\n",
    "4. Determine la verdad o falsedad de la siguiente afirmación: \"El número máximo menos el número mínimo es igual a la suma total dividida por 5\".\n",
    "5. Muestre los resultados utilizando print."
   ]
  },
  {
   "cell_type": "code",
   "execution_count": 24,
   "metadata": {},
   "outputs": [
    {
     "name": "stdin",
     "output_type": "stream",
     "text": [
      "Introduce números enteros separados por comas:  5,4,3\n"
     ]
    },
    {
     "name": "stdout",
     "output_type": "stream",
     "text": [
      "Lista: [5, 4, 3]\n",
      "Máximo: 5\n",
      "Mínimo: 3\n",
      "Suma total: 12\n",
      "¿Se cumple que (máx - mín) = (suma / 5)? False\n"
     ]
    }
   ],
   "source": [
    "# Pedir números al usuario\n",
    "entrada = input(\"Introduce números enteros separados por comas: \")\n",
    "\n",
    "# Convertir a lista de enteros\n",
    "lista = [int(num) for num in entrada.split(\",\")]\n",
    "\n",
    "# Calcular máximo, mínimo y suma\n",
    "maximo = max(lista)\n",
    "minimo = min(lista)\n",
    "suma_total = sum(lista)\n",
    "\n",
    "# Comprobar la condición\n",
    "condicion = (maximo - minimo) == (suma_total / 5)\n",
    "\n",
    "# Mostrar resultados\n",
    "print(\"Lista:\", lista)\n",
    "print(\"Máximo:\", maximo)\n",
    "print(\"Mínimo:\", minimo)\n",
    "print(\"Suma total:\", suma_total)\n",
    "print(\"¿Se cumple que (máx - mín) = (suma / 5)?\", condicion)\n"
   ]
  }
 ],
 "metadata": {
  "colab": {
   "provenance": []
  },
  "kernelspec": {
   "display_name": "Python 3 (ipykernel)",
   "language": "python",
   "name": "python3"
  },
  "language_info": {
   "codemirror_mode": {
    "name": "ipython",
    "version": 3
   },
   "file_extension": ".py",
   "mimetype": "text/x-python",
   "name": "python",
   "nbconvert_exporter": "python",
   "pygments_lexer": "ipython3",
   "version": "3.10.11"
  }
 },
 "nbformat": 4,
 "nbformat_minor": 4
}
