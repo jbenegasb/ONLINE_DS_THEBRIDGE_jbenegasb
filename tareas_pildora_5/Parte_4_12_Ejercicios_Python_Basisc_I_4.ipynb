{
 "cells": [
  {
   "cell_type": "markdown",
   "metadata": {
    "id": "_605x4e9s95R"
   },
   "source": [
    "![TheBridge_logo_RGB_color.jpg](attachment:TheBridge_logo_RGB_color.jpg)"
   ]
  },
  {
   "cell_type": "markdown",
   "metadata": {
    "id": "b1lEpG9Ds95V"
   },
   "source": [
    "![imagen](./img/ejercicios.png)"
   ]
  },
  {
   "cell_type": "markdown",
   "metadata": {
    "id": "MdOW2O9Ts95W"
   },
   "source": [
    "## EJERCICIOS PYTHON BASICO 4:\n",
    "## Funciones, métodos, listas"
   ]
  },
  {
   "cell_type": "markdown",
   "metadata": {
    "id": "nvaZ7F4zs95W"
   },
   "source": [
    "Completa los siguiente ejercicios, la solución completa a los mismos se publicarán en el repo del curso a lo largo del sprint. En algunos ejercicios se muestra la solución final, para que puedas comprobar que lo has hecho bien, pero lo importante es el código que generes. ¡Vaaamos, a ello...!"
   ]
  },
  {
   "cell_type": "markdown",
   "metadata": {
    "id": "OJSJpbaus95X"
   },
   "source": [
    "![ejercicio.png](./img/ejercicio.png)\n",
    "\n",
    "## Ejercicio 1\n",
    "Para este ejercicio vamos a poner en práctica [las funciones built in](https://docs.python.org/3/library/functions.html).\n",
    "\n",
    "1. Calcula el máximo de la lista: [4, 6, 8, -1]\n",
    "2. Suma todos los elementos de la lista anterior\n",
    "3. Redondea este float a 3 dígitos decimales: 63.451256965\n",
    "4. Valor absoluto de: -74"
   ]
  },
  {
   "cell_type": "code",
   "execution_count": 4,
   "metadata": {
    "id": "FJ7jLvUos95X"
   },
   "outputs": [
    {
     "name": "stdout",
     "output_type": "stream",
     "text": [
      "8\n",
      "63.451\n",
      "74\n"
     ]
    }
   ],
   "source": [
    "\n",
    "lista = [4, 6, 8, -1]\n",
    "print(max(lista))\n",
    "\n",
    "#redondear\n",
    "valor = 63.451256965\n",
    "print(round(valor,3))\n",
    "\n",
    "#valor absoluto\n",
    "valor_2 = -74\n",
    "print(abs(valor_2))"
   ]
  },
  {
   "cell_type": "markdown",
   "metadata": {
    "id": "T3aFsfZOs95X"
   },
   "source": [
    "![ejercicio.png](./img/ejercicio.png)\n",
    "\n",
    "## Ejercicio 2\n",
    "Para el siguiente string se pide imprimir por pantalla los siguientes casos\n",
    "\n",
    "    \"En un lugar de la Mancha, de cuyo nombre no quiero acordarme.\"\n",
    "\n",
    "1. Pásalo todo a mayúsculas\n",
    "2. Pásalo todo a minúsculas\n",
    "3. Solo la primera letra de cada palabra en mayúscula, el resto en minúscula\n",
    "4. Crea una lista dividiéndolo por sus espacios\n",
    "5. Sustituye las comas `,` por puntos y comas `;`\n",
    "6. Elimina las `a` minúsculas"
   ]
  },
  {
   "cell_type": "code",
   "execution_count": 18,
   "metadata": {
    "id": "9QblwBNps95Y",
    "outputId": "ef26058c-df60-48e5-cb65-cb69b0681310"
   },
   "outputs": [
    {
     "name": "stdout",
     "output_type": "stream",
     "text": [
      "EN UN LUGAR DE LA MANCHA, DE CUYO NOMBRE NO QUIERO ACORDARME.\n",
      "en un lugar de la mancha, de cuyo nombre no quiero acordarme.\n",
      "En Un Lugar De La Mancha, De Cuyo Nombre No Quiero Acordarme.\n",
      "['En', 'un', 'lugar', 'de', 'la', 'Mancha,', 'de', 'cuyo', 'nombre', 'no', 'quiero', 'acordarme.']\n",
      "En un lugar de la Mancha; de cuyo nombre no quiero acordarme.\n",
      "En un lug r de l  M nch , de cuyo nombre no quiero  cord rme.\n"
     ]
    }
   ],
   "source": [
    "#mayuscula\n",
    "quijote = \"En un lugar de la Mancha, de cuyo nombre no quiero acordarme.\"\n",
    "print(quijote.upper())\n",
    "\n",
    "#minuscula\n",
    "print(quijote.lower())\n",
    "\n",
    "#primera letra mayuscula\n",
    "print(quijote.title())\n",
    "\n",
    "#crear una lista seperando por sus espacios\n",
    "print(quijote.split())\n",
    "\n",
    "#sustituir \",\" por \";\"\n",
    "print(quijote.replace(\",\",\";\"))\n",
    "\n",
    "#eliminar las \"a\"\n",
    "print(quijote.replace(\"a\",\" \"))\n",
    "\n"
   ]
  },
  {
   "cell_type": "markdown",
   "metadata": {
    "id": "pKijcnKCs95Z"
   },
   "source": [
    "![ejercicio.png](./img/ejercicio.png)\n",
    "\n",
    "## Ejercicio 3\n",
    "1. Crea una lista con 3 elementos numéricos\n",
    "2. Añade un cuarto elemento\n",
    "3. Calcula la suma de todos\n",
    "4. Elimina el segundo elemento de la lista\n",
    "5. Añade otro elemento en la posicion 3 de la lista\n",
    "6. Crea otra lista con 4 elementos y concaténala a la que ya tenías.\n",
    "7. Ordena la lista de menor a mayor.\n",
    "8. BONUS: Ordena la lista de mayor a menor.  \n",
    "(*PISTA: Para hacer 8, tendrás que buscar en la información del método...*)  \n",
    "  \n",
    "  \n",
    "NOTA: Pinta por pantalla el resultado de cada paso."
   ]
  },
  {
   "cell_type": "code",
   "execution_count": 22,
   "metadata": {
    "id": "3bErVC2Hs95Z",
    "outputId": "997b191e-c6a2-4d38-d711-0ef9ea37b45c"
   },
   "outputs": [
    {
     "name": "stdout",
     "output_type": "stream",
     "text": [
      "[1, 2, 3, 4]\n",
      "paso 2: None\n",
      "paso 3: 10\n",
      "paso 4: [1, 3, 4]\n",
      "paso 5: [1, 3, 9, 4]\n",
      "paso 6: [1, 3, 9, 4, 10, 20, 30, 40]\n",
      "paso 7: [1, 3, 4, 9, 10, 20, 30, 40]\n",
      "Bonus paso 8: [40, 30, 20, 10, 9, 4, 3, 1]\n"
     ]
    }
   ],
   "source": [
    "lista = [1, 2, 3]\n",
    "\n",
    "#agregar un elemento\n",
    "lista.append(4)\n",
    "print(\"paso 2:\",print(lista))\n",
    "\n",
    "#calcular suma\n",
    "suma = sum(lista)\n",
    "print(\"paso 3:\", suma)\n",
    "\n",
    "#eliminar el segundo elemento de la lista (posicion 1, porque la lista empieza con 0)\n",
    "del lista[1]\n",
    "print(\"paso 4:\", lista)\n",
    "\n",
    "#agregar un elemento en una posicion especifica, insert(posicion, valor)\n",
    "lista.insert(2,9)\n",
    "print(\"paso 5:\", lista)\n",
    "\n",
    "#concatenacion de listas \n",
    "lista_2 = [10, 20, 30, 40]\n",
    "suma_listas = lista + lista_2 \n",
    "print(\"paso 6:\", suma_listas)\n",
    "\n",
    "#ordedenar de menor a mayor \n",
    "suma_listas.sort()\n",
    "print(\"paso 7:\", suma_listas)\n",
    "\n",
    "#ordenar de mayor a menor\n",
    "suma_listas.sort(reverse=True)\n",
    "print(\"Bonus paso 8:\", suma_listas)\n",
    "\n"
   ]
  }
 ],
 "metadata": {
  "colab": {
   "provenance": []
  },
  "kernelspec": {
   "display_name": "Python 3 (ipykernel)",
   "language": "python",
   "name": "python3"
  },
  "language_info": {
   "codemirror_mode": {
    "name": "ipython",
    "version": 3
   },
   "file_extension": ".py",
   "mimetype": "text/x-python",
   "name": "python",
   "nbconvert_exporter": "python",
   "pygments_lexer": "ipython3",
   "version": "3.10.11"
  }
 },
 "nbformat": 4,
 "nbformat_minor": 4
}
