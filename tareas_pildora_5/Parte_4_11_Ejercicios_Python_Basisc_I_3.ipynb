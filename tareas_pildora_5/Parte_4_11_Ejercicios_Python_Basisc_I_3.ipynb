{
 "cells": [
  {
   "cell_type": "markdown",
   "metadata": {
    "id": "qOGmoPRxd68n"
   },
   "source": [
    "![TheBridge_logo_RGB_color.jpg](attachment:TheBridge_logo_RGB_color.jpg)"
   ]
  },
  {
   "cell_type": "markdown",
   "metadata": {
    "id": "t96B3Pscd68q"
   },
   "source": [
    "![imagen](./img/ejercicios.png)"
   ]
  },
  {
   "cell_type": "markdown",
   "metadata": {
    "id": "9YRkTJnrd68q"
   },
   "source": [
    "## EJERCICIOS PYTHON BASICO 3:\n",
    "## Operaciones matemáticas, comparación y booleanas"
   ]
  },
  {
   "cell_type": "markdown",
   "metadata": {
    "id": "nWQNVBtHd68r"
   },
   "source": [
    "Completa los siguiente ejercicios, la solución completa a los mismos se publicarán en el repo del curso a lo largo del sprint. En algunos ejercicios se muestra la solución final, para que puedas comprobar que lo has hecho bien, pero lo importante es el código que generes. ¡Vaaamos, a ello...!"
   ]
  },
  {
   "cell_type": "markdown",
   "metadata": {
    "id": "yNO-eGN-d68r"
   },
   "source": [
    "![ejercicio.png](./img/ejercicio.png)\n",
    "\n",
    "\n",
    "## Ejercicio 1\n",
    "Tenemos las siguientes variables:\n",
    "\n",
    "```Python\n",
    "A = 4\n",
    "B = \"Text\"\n",
    "C = 4.1\n",
    "```\n",
    "\n",
    "Comprueba:\n",
    "1. Si A y B son equivalentes\n",
    "2. Si A y C NO son equivalentes\n",
    "3. Si A es mayor que C\n",
    "4. Si C es menor o igual que A\n",
    "5. Si B NO es equivalente a C"
   ]
  },
  {
   "cell_type": "code",
   "execution_count": 1,
   "metadata": {
    "id": "guTgVZxid68s",
    "outputId": "674354c3-d54a-41dd-ad43-4494a6ad26c4"
   },
   "outputs": [
    {
     "name": "stdout",
     "output_type": "stream",
     "text": [
      "False\n",
      "True\n",
      "False\n",
      "False\n",
      "True\n"
     ]
    }
   ],
   "source": [
    "A = 4\n",
    "B = \"Text\"\n",
    "C = 4.1\n",
    "# A y B son equivalentes?\n",
    "print(A == B)\n",
    "# A y C no son equivalentes?\n",
    "print(A != B)\n",
    "#Si A es mayor que C\n",
    "print(A > C)\n",
    "#Si C es menor o igual que A\n",
    "print(C <= A)\n",
    "#Si B no es equivalente a C\n",
    "print(B != C)"
   ]
  },
  {
   "cell_type": "markdown",
   "metadata": {
    "id": "b7FF4GwWd68t"
   },
   "source": [
    "![ejercicio.png](./img/ejercicio.png)\n",
    "\n",
    "## Ejercicio 2\n",
    "Crea un programa donde se recojan dos inputs del usuario, y el output del programa sea si esos inputs son iguales o no"
   ]
  },
  {
   "cell_type": "code",
   "execution_count": 10,
   "metadata": {
    "id": "0e2II2GUd68u",
    "scrolled": true
   },
   "outputs": [
    {
     "name": "stdin",
     "output_type": "stream",
     "text": [
      "ingrese un valor 2\n",
      "ingrese un valor 2\n"
     ]
    },
    {
     "name": "stdout",
     "output_type": "stream",
     "text": [
      "los valores son iguales\n"
     ]
    }
   ],
   "source": [
    "#Input\n",
    "input_1 = input(\"ingrese un valor\")\n",
    "input_2 = input(\"ingrese un valor\")\n",
    "\n",
    "#Output\n",
    "if input_1 == input_2:\n",
    "    print(\"los valores son iguales\")\n",
    "else :\n",
    "    print(\"los valores son diferentes\")"
   ]
  },
  {
   "cell_type": "markdown",
   "metadata": {
    "id": "xtJBDBEOd68u"
   },
   "source": [
    "![ejercicio.png](./img/ejercicio.png)\n",
    "\n",
    "## Ejercicio 3\n",
    "Mismo programa que en 2, pero en esta ocasión tienen que ser tres inputs y dos salidas. Una de las salidas que nos indique si todos son iguales, y la otra si al menos dos inputs sí que lo son"
   ]
  },
  {
   "cell_type": "code",
   "execution_count": 13,
   "metadata": {
    "id": "E21muxrjd68u",
    "outputId": "cdd0ba34-eb55-41f6-d055-ab99470ef3ec"
   },
   "outputs": [
    {
     "name": "stdin",
     "output_type": "stream",
     "text": [
      "ingrese un valor 1\n",
      "ingrese un valor 5\n",
      "ingrese un valor 7\n"
     ]
    },
    {
     "name": "stdout",
     "output_type": "stream",
     "text": [
      "Los tres valores son diferentes\n"
     ]
    }
   ],
   "source": [
    "#Input\n",
    "valor_1 = input(\"ingrese un valor\")\n",
    "valor_2 = input(\"ingrese un valor\")\n",
    "valor_3 = input(\"ingrese un valor\")\n",
    "\n",
    "#Output\n",
    "if valor_1 == valor_2 == valor_3:\n",
    "    print(\"Los tres son iguales\")\n",
    "elif valor_1 == valor_2:\n",
    "    print(\"Al menos dos valores son iguales\")\n",
    "elif valor_2 == valor_3:\n",
    "    print(\"Al menos dos valores son iguales\")\n",
    "elif valor_1 == valor_3:\n",
    "    print(\"Al menos dos valores son iguales\")\n",
    "else:\n",
    "    print(\"Los tres valores son diferentes\")\n",
    "    "
   ]
  },
  {
   "cell_type": "markdown",
   "metadata": {
    "id": "M785H26ad68v"
   },
   "source": [
    "![ejercicio.png](./img/ejercicio.png)\n",
    "\n",
    "## Ejercicio 4\n",
    "Razona sin ejecutar código el output que obtendremos de las siguientes sentencias\n",
    "1. True and True and False\n",
    "2. not ((True or False) and (True or False))\n",
    "3. (False or False or False or True) and False\n",
    "4. not False and True and not True"
   ]
  },
  {
   "cell_type": "markdown",
   "metadata": {
    "id": "ixotsYE0d68v"
   },
   "source": [
    "True and True and False\n",
    "\n",
    "True and True → True\n",
    "\n",
    "True and False → False\n",
    "Resultado: False\n",
    "\n",
    "not ((True or False) and (True or False))\n",
    "\n",
    "True or False → True (en ambas subexpresiones)\n",
    "\n",
    "True and True → True\n",
    "\n",
    "not True → False\n",
    "Resultado: False\n",
    "\n",
    "(False or False or False or True) and False\n",
    "\n",
    "False or False or False or True → True (hay un True)\n",
    "\n",
    "True and False → False\n",
    "Resultado: False\n",
    "\n",
    "not False and True and not True\n",
    "\n",
    "not tiene prioridad sobre and, así que primero: not False → True y not True → False\n",
    "\n",
    "Queda: True and True and False\n",
    "\n",
    "True and True → True\n",
    "\n",
    "True and False → False\n",
    "Resultado: False"
   ]
  }
 ],
 "metadata": {
  "colab": {
   "provenance": []
  },
  "kernelspec": {
   "display_name": "Python 3 (ipykernel)",
   "language": "python",
   "name": "python3"
  },
  "language_info": {
   "codemirror_mode": {
    "name": "ipython",
    "version": 3
   },
   "file_extension": ".py",
   "mimetype": "text/x-python",
   "name": "python",
   "nbconvert_exporter": "python",
   "pygments_lexer": "ipython3",
   "version": "3.10.11"
  }
 },
 "nbformat": 4,
 "nbformat_minor": 4
}
